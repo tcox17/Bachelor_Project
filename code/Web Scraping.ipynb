{
 "cells": [
  {
   "cell_type": "code",
   "execution_count": 3,
   "id": "e5a14a21",
   "metadata": {},
   "outputs": [
    {
     "name": "stdout",
     "output_type": "stream",
     "text": [
      "Requirement already satisfied: requests in /Users/taylorcox/opt/anaconda3/lib/python3.8/site-packages (2.25.1)\n",
      "Requirement already satisfied: chardet<5,>=3.0.2 in /Users/taylorcox/opt/anaconda3/lib/python3.8/site-packages (from requests) (4.0.0)\n",
      "Requirement already satisfied: idna<3,>=2.5 in /Users/taylorcox/opt/anaconda3/lib/python3.8/site-packages (from requests) (2.10)\n",
      "Requirement already satisfied: certifi>=2017.4.17 in /Users/taylorcox/opt/anaconda3/lib/python3.8/site-packages (from requests) (2020.12.5)\n",
      "Requirement already satisfied: urllib3<1.27,>=1.21.1 in /Users/taylorcox/opt/anaconda3/lib/python3.8/site-packages (from requests) (1.26.4)\n",
      "Note: you may need to restart the kernel to use updated packages.\n"
     ]
    }
   ],
   "source": [
    "pip install requests"
   ]
  },
  {
   "cell_type": "code",
   "execution_count": 30,
   "id": "f8e77f79",
   "metadata": {},
   "outputs": [],
   "source": [
    "import requests\n",
    "from bs4 import BeautifulSoup\n",
    "import pandas as pd"
   ]
  },
  {
   "cell_type": "code",
   "execution_count": null,
   "id": "c45d455d",
   "metadata": {},
   "outputs": [],
   "source": [
    "URL = \"https://en.wikipedia.org/wiki/The_Bachelorette_(American_season_17)\"\n",
    "page = requests.get(URL)\n",
    "\n",
    "print(page.text)"
   ]
  },
  {
   "cell_type": "code",
   "execution_count": 8,
   "id": "e51c608f",
   "metadata": {},
   "outputs": [],
   "source": [
    "soup = BeautifulSoup(page.content, \"html.parser\")"
   ]
  },
  {
   "cell_type": "code",
   "execution_count": null,
   "id": "89587ca6",
   "metadata": {},
   "outputs": [],
   "source": [
    "print(soup.prettify())"
   ]
  },
  {
   "cell_type": "code",
   "execution_count": 23,
   "id": "114559ad",
   "metadata": {},
   "outputs": [],
   "source": [
    "results = soup.find('table', class_=\"wikitable sortable\")"
   ]
  },
  {
   "cell_type": "code",
   "execution_count": 26,
   "id": "f5f8b9b6",
   "metadata": {},
   "outputs": [],
   "source": [
    "elements = results.find(\"div\", class_=\"wikitable sortable\")"
   ]
  },
  {
   "cell_type": "code",
   "execution_count": 34,
   "id": "500822bd",
   "metadata": {},
   "outputs": [],
   "source": [
    "headers = []\n",
    "for i in results.find_all('th'):\n",
    "    title = i.text\n",
    "    headers.append(title)\n",
    "\n",
    "df = pd.DataFrame(columns = headers)"
   ]
  },
  {
   "cell_type": "code",
   "execution_count": 116,
   "id": "c45c70b6",
   "metadata": {},
   "outputs": [],
   "source": [
    "name = []\n",
    "age = []\n",
    "hometown = []\n",
    "occupation = []\n",
    "for j in results.find_all('tr')[1:]:\n",
    "        row_data = j.find_all('td')\n",
    "        row = [tr.text for tr in row_data]\n",
    "        for i in (0,len(name)):\n",
    "            name.append(row[:1])\n",
    "            age.append(row[1:2])\n",
    "            hometown.append(row[2:3])\n",
    "            occupation.append(row[3:4])\n",
    "            i+=1\n"
   ]
  },
  {
   "cell_type": "code",
   "execution_count": 124,
   "id": "f7f4cbb5",
   "metadata": {},
   "outputs": [
    {
     "name": "stdout",
     "output_type": "stream",
     "text": [
      "[['Blake Moynes[11][12]\\n'], ['Justin Glaze[14]\\n'], ['Greg Grippo[15][16]\\n'], ['Michael Allio[18][19]\\n'], ['Andrew Spencer[4]\\n'], ['Mike Planeta[22]\\n'], ['Brendan Scanzano[12]\\n'], ['Aaron Clancy[23]\\n'], ['Hunter Montgomery[25]\\n'], ['James Bonsall[16]\\n'], ['Tré Cooper[23]\\n'], ['Connor Brennan[16][26]\\n'], ['Andrew Milcovich[23]\\n'], ['Josh Tylerbest[23]\\n'], ['Quartney Mixon[25]\\n'], ['Christian Smith[28]\\n'], ['Conor Costello[23]\\n'], ['David Scott[23]\\n'], ['Thomas Jacobs[23]\\n'], ['Garrett Schwartz[23]\\n'], ['John Hersey[23]\\n'], ['Karl Smith[23]\\n'], ['Kyle Howard[23]\\n'], ['Cody Menk[15][16]\\n'], ['Austin Tinsley[23]\\n'], ['Brandon Torres[32]\\n'], ['Gabriel Everett[33]\\n'], ['Jeff Caravello[15][16]\\n'], ['Landon Goesling[25]\\n'], ['Marcus Lathan[34]\\n'], ['Marty Hargrove[23]\\n']]\n"
     ]
    }
   ],
   "source": [
    "final_names=[]\n",
    "for i in name:\n",
    "    if i not in final_names:\n",
    "        final_names.append(i)\n",
    "        \n",
    "print(list(final_names))"
   ]
  },
  {
   "cell_type": "code",
   "execution_count": 126,
   "id": "af83bde8",
   "metadata": {},
   "outputs": [],
   "source": [
    "k_data = {'Name': name, 'Age': age, 'Occupation': occupation, 'Hometown' : hometown}"
   ]
  },
  {
   "cell_type": "code",
   "execution_count": 127,
   "id": "79cf29fe",
   "metadata": {},
   "outputs": [],
   "source": [
    "df = pd.DataFrame(k_data)"
   ]
  },
  {
   "cell_type": "code",
   "execution_count": 128,
   "id": "58cbd87e",
   "metadata": {},
   "outputs": [
    {
     "data": {
      "text/html": [
       "<div>\n",
       "<style scoped>\n",
       "    .dataframe tbody tr th:only-of-type {\n",
       "        vertical-align: middle;\n",
       "    }\n",
       "\n",
       "    .dataframe tbody tr th {\n",
       "        vertical-align: top;\n",
       "    }\n",
       "\n",
       "    .dataframe thead th {\n",
       "        text-align: right;\n",
       "    }\n",
       "</style>\n",
       "<table border=\"1\" class=\"dataframe\">\n",
       "  <thead>\n",
       "    <tr style=\"text-align: right;\">\n",
       "      <th></th>\n",
       "      <th>Name</th>\n",
       "      <th>Age</th>\n",
       "      <th>Occupation</th>\n",
       "      <th>Hometown</th>\n",
       "    </tr>\n",
       "  </thead>\n",
       "  <tbody>\n",
       "    <tr>\n",
       "      <th>0</th>\n",
       "      <td>[Blake Moynes[11][12]\\n]</td>\n",
       "      <td>[30\\n]</td>\n",
       "      <td>[Wildlife Manager\\n]</td>\n",
       "      <td>[Hamilton, Ontario\\n]</td>\n",
       "    </tr>\n",
       "    <tr>\n",
       "      <th>1</th>\n",
       "      <td>[Blake Moynes[11][12]\\n]</td>\n",
       "      <td>[30\\n]</td>\n",
       "      <td>[Wildlife Manager\\n]</td>\n",
       "      <td>[Hamilton, Ontario\\n]</td>\n",
       "    </tr>\n",
       "    <tr>\n",
       "      <th>2</th>\n",
       "      <td>[Justin Glaze[14]\\n]</td>\n",
       "      <td>[26\\n]</td>\n",
       "      <td>[Investment Sales Consultant\\n]</td>\n",
       "      <td>[Ellicott City, Maryland\\n]</td>\n",
       "    </tr>\n",
       "    <tr>\n",
       "      <th>3</th>\n",
       "      <td>[Justin Glaze[14]\\n]</td>\n",
       "      <td>[26\\n]</td>\n",
       "      <td>[Investment Sales Consultant\\n]</td>\n",
       "      <td>[Ellicott City, Maryland\\n]</td>\n",
       "    </tr>\n",
       "    <tr>\n",
       "      <th>4</th>\n",
       "      <td>[Greg Grippo[15][16]\\n]</td>\n",
       "      <td>[27\\n]</td>\n",
       "      <td>[Marketing Sales Representative\\n]</td>\n",
       "      <td>[Edison, New Jersey\\n]</td>\n",
       "    </tr>\n",
       "    <tr>\n",
       "      <th>...</th>\n",
       "      <td>...</td>\n",
       "      <td>...</td>\n",
       "      <td>...</td>\n",
       "      <td>...</td>\n",
       "    </tr>\n",
       "    <tr>\n",
       "      <th>57</th>\n",
       "      <td>[Landon Goesling[25]\\n]</td>\n",
       "      <td>[25\\n]</td>\n",
       "      <td>[Basketball Coach\\n]</td>\n",
       "      <td>[Coppell, Texas\\n]</td>\n",
       "    </tr>\n",
       "    <tr>\n",
       "      <th>58</th>\n",
       "      <td>[Marcus Lathan[34]\\n]</td>\n",
       "      <td>[30\\n]</td>\n",
       "      <td>[Real Estate Broker\\n]</td>\n",
       "      <td>[Vancouver, Washington\\n]</td>\n",
       "    </tr>\n",
       "    <tr>\n",
       "      <th>59</th>\n",
       "      <td>[Marcus Lathan[34]\\n]</td>\n",
       "      <td>[30\\n]</td>\n",
       "      <td>[Real Estate Broker\\n]</td>\n",
       "      <td>[Vancouver, Washington\\n]</td>\n",
       "    </tr>\n",
       "    <tr>\n",
       "      <th>60</th>\n",
       "      <td>[Marty Hargrove[23]\\n]</td>\n",
       "      <td>[25\\n]</td>\n",
       "      <td>[Dancer\\n]</td>\n",
       "      <td>[Reno, Nevada\\n]</td>\n",
       "    </tr>\n",
       "    <tr>\n",
       "      <th>61</th>\n",
       "      <td>[Marty Hargrove[23]\\n]</td>\n",
       "      <td>[25\\n]</td>\n",
       "      <td>[Dancer\\n]</td>\n",
       "      <td>[Reno, Nevada\\n]</td>\n",
       "    </tr>\n",
       "  </tbody>\n",
       "</table>\n",
       "<p>62 rows × 4 columns</p>\n",
       "</div>"
      ],
      "text/plain": [
       "                        Name     Age                          Occupation  \\\n",
       "0   [Blake Moynes[11][12]\\n]  [30\\n]                [Wildlife Manager\\n]   \n",
       "1   [Blake Moynes[11][12]\\n]  [30\\n]                [Wildlife Manager\\n]   \n",
       "2       [Justin Glaze[14]\\n]  [26\\n]     [Investment Sales Consultant\\n]   \n",
       "3       [Justin Glaze[14]\\n]  [26\\n]     [Investment Sales Consultant\\n]   \n",
       "4    [Greg Grippo[15][16]\\n]  [27\\n]  [Marketing Sales Representative\\n]   \n",
       "..                       ...     ...                                 ...   \n",
       "57   [Landon Goesling[25]\\n]  [25\\n]                [Basketball Coach\\n]   \n",
       "58     [Marcus Lathan[34]\\n]  [30\\n]              [Real Estate Broker\\n]   \n",
       "59     [Marcus Lathan[34]\\n]  [30\\n]              [Real Estate Broker\\n]   \n",
       "60    [Marty Hargrove[23]\\n]  [25\\n]                          [Dancer\\n]   \n",
       "61    [Marty Hargrove[23]\\n]  [25\\n]                          [Dancer\\n]   \n",
       "\n",
       "                       Hometown  \n",
       "0         [Hamilton, Ontario\\n]  \n",
       "1         [Hamilton, Ontario\\n]  \n",
       "2   [Ellicott City, Maryland\\n]  \n",
       "3   [Ellicott City, Maryland\\n]  \n",
       "4        [Edison, New Jersey\\n]  \n",
       "..                          ...  \n",
       "57           [Coppell, Texas\\n]  \n",
       "58    [Vancouver, Washington\\n]  \n",
       "59    [Vancouver, Washington\\n]  \n",
       "60             [Reno, Nevada\\n]  \n",
       "61             [Reno, Nevada\\n]  \n",
       "\n",
       "[62 rows x 4 columns]"
      ]
     },
     "execution_count": 128,
     "metadata": {},
     "output_type": "execute_result"
    }
   ],
   "source": [
    "df"
   ]
  },
  {
   "cell_type": "code",
   "execution_count": 129,
   "id": "c45d228d",
   "metadata": {},
   "outputs": [],
   "source": [
    "df.to_csv(r'Season17.csv', header = True)"
   ]
  }
 ],
 "metadata": {
  "kernelspec": {
   "display_name": "Python 3",
   "language": "python",
   "name": "python3"
  },
  "language_info": {
   "codemirror_mode": {
    "name": "ipython",
    "version": 3
   },
   "file_extension": ".py",
   "mimetype": "text/x-python",
   "name": "python",
   "nbconvert_exporter": "python",
   "pygments_lexer": "ipython3",
   "version": "3.8.8"
  }
 },
 "nbformat": 4,
 "nbformat_minor": 5
}
